{
 "cells": [
  {
   "cell_type": "code",
   "execution_count": 1,
   "id": "96347609",
   "metadata": {},
   "outputs": [
    {
     "name": "stdout",
     "output_type": "stream",
     "text": [
      "Populating the interactive namespace from numpy and matplotlib\n"
     ]
    }
   ],
   "source": [
    "# Import libraries\n",
    "%pylab inline\n",
    "import pandas as pd\n",
    "import os"
   ]
  },
  {
   "cell_type": "code",
   "execution_count": 2,
   "id": "a3295ae9",
   "metadata": {},
   "outputs": [],
   "source": [
    "# Load sample order and labels\n",
    "sampleinfo = pd.read_csv(\"~/public/1000Genomes/igsr_samples.tsv\", sep=\"\\t\")\n",
    "sample_to_pop = dict(zip(list(sampleinfo[\"Sample name\"]), list(sampleinfo[\"Population code\"])))\n",
    "samples = [line.split()[0] for line in open(\"ps2_admixture.pruned.fam\", \"r\").readlines()]\n",
    "pops = [sample_to_pop.get(item, \"NA\") for item in samples]\n",
    "for item in pops:\n",
    "    assert(item in [\"CEU\", \"PEL\", \"GWD\", \"ASW\", \"PUR\"])"
   ]
  },
  {
   "cell_type": "code",
   "execution_count": 3,
   "id": "a491af11",
   "metadata": {},
   "outputs": [
    {
     "name": "stdout",
     "output_type": "stream",
     "text": [
      "Populating the interactive namespace from numpy and matplotlib\n",
      "These are the actual results from the admixture tool \n"
     ]
    },
    {
     "data": {
      "image/png": "[encoded data removed]",
      "text/plain": [
       "<Figure size 720x576 with 2 Axes>"
      ]
     },
     "metadata": {
      "needs_background": "light"
     },
     "output_type": "display_data"
    }
   ],
   "source": [
    "\"\"\" Check ADMIXTURE results \"\"\"\n",
    "%pylab inline\n",
    "\n",
    "# The code below makes ADMIXTURE bar plots based on your results\n",
    "# It will fail if your ADMIXTURE run was not complete or if you did not\n",
    "# output results to the specified output files!\n",
    "# Please ensure you get plots (and the notebook validates)\n",
    "# to get full points.\n",
    "\n",
    "sampleinfo = pd.read_csv(\"~/public/1000Genomes/igsr_samples.tsv\", sep=\"\\t\")\n",
    "sample_to_pop = dict(zip(list(sampleinfo[\"Sample name\"]), list(sampleinfo[\"Population code\"])))\n",
    "samples = [line.split()[0] for line in open(\"ps2_admixture.pruned.fam\", \"r\").readlines()]\n",
    "pops = [sample_to_pop.get(item, \"NA\") for item in samples]\n",
    "\n",
    "fig = plt.figure()\n",
    "fig.set_size_inches((10, 8))\n",
    "\n",
    "plotind = 1\n",
    "for K in [3, 5]:\n",
    "    ax = fig.add_subplot(3, 1, plotind)\n",
    "    \n",
    "    data = pd.read_csv(\"ps2_admixture.pruned.%s.Q\"%K, delim_whitespace=True, header=None)\n",
    "    cols = list(data.columns)\n",
    "    data[\"sample\"] = samples\n",
    "    data[\"pop\"] = pops\n",
    "    data = data.sort_values([\"pop\"]+cols)\n",
    "    data.plot.bar(stacked=True, ax=ax, width=1)\n",
    "    ax.spines['right'].set_visible(False)\n",
    "    ax.spines['top'].set_visible(False)\n",
    "    ax.yaxis.set_ticks_position('left')\n",
    "    ax.xaxis.set_ticks_position('bottom')\n",
    "    \n",
    "    # Only plot label for first sample in each pop\n",
    "    xticklabels = []\n",
    "    currpop = \"\"\n",
    "    for i in range(data.shape[0]):\n",
    "        if data[\"pop\"].values[i] == currpop:\n",
    "            xticklabels.append(\"\")\n",
    "        else:\n",
    "            xticklabels.append(data[\"pop\"].values[i])\n",
    "            currpop = data[\"pop\"].values[i]\n",
    "    ax.set_xticklabels(xticklabels)\n",
    "    \n",
    "    plotind += 1\n",
    "fig.tight_layout()\n",
    "\n",
    "\n",
    "print(\"These are the actual results from the admixture tool \" )"
   ]
  },
  {
   "cell_type": "code",
   "execution_count": 4,
   "id": "57c7849b",
   "metadata": {},
   "outputs": [
    {
     "name": "stdout",
     "output_type": "stream",
     "text": [
      "starting reading \n",
      "Genotype matrix shape: (26499, 462)\n",
      "(26499, 462) [[0.0000000e+00 4.2215400e+05]\n",
      " [1.0000000e+00 1.9223000e+04]\n",
      " [2.0000000e+00 1.0037297e+07]\n",
      " [          nan 1.7638640e+06]]\n"
     ]
    }
   ],
   "source": [
    "import numpy as np\n",
    "### this is the code for reading from the .bed file \n",
    "print(\"starting reading \")\n",
    "\n",
    "def read_bed_file(bed_file_path, num_individuals, num_snps):\n",
    "    \"\"\"Read genotype data from a .bed file.\"\"\"\n",
    "    # Open the .bed file in binary mode\n",
    "    with open(bed_file_path, 'rb') as bed_file:\n",
    "        # Skip the header\n",
    "        bed_file.read(3)\n",
    "        \n",
    "        # Calculate the number of bytes to read per row\n",
    "        bytes_per_row = (num_individuals + 3) // 4\n",
    "        \n",
    "        # Initialize an empty array to store the genotype data\n",
    "        genotypes = np.zeros((num_snps, num_individuals), dtype=float)\n",
    "        \n",
    "        for snp_index in range(num_snps):\n",
    "            # Read a row of data\n",
    "            row_data = bed_file.read(bytes_per_row)\n",
    "            byte_array = np.frombuffer(row_data, dtype=np.uint8)\n",
    "            \n",
    "            # Decode the genotypes from the byte array\n",
    "            for i in range(num_individuals):\n",
    "                byte_index = i // 4\n",
    "                if byte_index >= len(byte_array):\n",
    "                    break\n",
    "                \n",
    "                # Extracting bits for one individual\n",
    "                # Bits are stored in reverse order for each individual\n",
    "                bit_index = (i % 4) * 2\n",
    "                genotype_code = (byte_array[byte_index] >> bit_index) & 0b11\n",
    "                \n",
    "                # Convert the binary genotype code to the actual genotype\n",
    "                if genotype_code == 0b00:\n",
    "                    genotypes[snp_index, i] = 0  # Homozygous first allele\n",
    "                elif genotype_code == 0b01:\n",
    "                    genotypes[snp_index, i] = 1  # Heterozygous\n",
    "                elif genotype_code == 0b11:\n",
    "                    genotypes[snp_index, i] = 2  # Homozygous second allele\n",
    "                elif genotype_code == 0b10:\n",
    "                    genotypes[snp_index, i] = np.nan  # Missing genotype\n",
    "                else:\n",
    "                    raise ValueError(f'Unexpected genotype code: {genotype_code}')\n",
    "                    \n",
    "    return genotypes\n",
    "\n",
    "# Parameters: Update these based on your .bed file\n",
    "bed_file_path = \"ps2_admixture.pruned.bed\"\n",
    "num_individuals = 462  # Update with the correct number of individuals in your dataset\n",
    "num_snps = 26499  # Update with the correct number of SNPs\n",
    "\n",
    "# Read the genotype data from the .bed file\n",
    "genotype_matrix = read_bed_file(bed_file_path, num_individuals, num_snps)\n",
    "print('Genotype matrix shape:', genotype_matrix.shape)\n",
    "\n",
    "(unique, counts) = np.unique(genotype_matrix, return_counts=True)\n",
    "\n",
    "frequencies = np.asarray((unique, counts)).T\n",
    "\n",
    "# Change binary genotype to ped+map format\n",
    "#plink --bfile ps2_admixture.pruned.bed --cow --nonfounders --allow-no-sex --recode --out ps2_admix_trial\n",
    "dimensions = genotype_matrix.shape\n",
    "print(dimensions, frequencies)"
   ]
  },
  {
   "cell_type": "code",
   "execution_count": 9,
   "id": "1fabda84",
   "metadata": {
    "scrolled": true
   },
   "outputs": [
    {
     "name": "stdout",
     "output_type": "stream",
     "text": [
      "starting now \n"
     ]
    },
    {
     "name": "stderr",
     "output_type": "stream",
     "text": [
      "EM Iterations:   0%|          | 1/1000 [00:01<24:07,  1.45s/it]"
     ]
    },
    {
     "name": "stdout",
     "output_type": "stream",
     "text": [
      "P L1 loss = 0.5645                  Q L1 Loss = 0.4081\n"
     ]
    },
    {
     "name": "stderr",
     "output_type": "stream",
     "text": [
      "EM Iterations:   5%|▌         | 51/1000 [01:15<23:53,  1.51s/it]"
     ]
    },
    {
     "name": "stdout",
     "output_type": "stream",
     "text": [
      "P L1 loss = 0.5624                  Q L1 Loss = 0.2453\n"
     ]
    },
    {
     "name": "stderr",
     "output_type": "stream",
     "text": [
      "EM Iterations:  10%|█         | 101/1000 [02:26<20:46,  1.39s/it]"
     ]
    },
    {
     "name": "stdout",
     "output_type": "stream",
     "text": [
      "P L1 loss = 0.5624                  Q L1 Loss = 0.2516\n"
     ]
    },
    {
     "name": "stderr",
     "output_type": "stream",
     "text": [
      "EM Iterations:  15%|█▌        | 151/1000 [03:40<21:13,  1.50s/it]"
     ]
    },
    {
     "name": "stdout",
     "output_type": "stream",
     "text": [
      "P L1 loss = 0.5624                  Q L1 Loss = 0.2495\n"
     ]
    },
    {
     "name": "stderr",
     "output_type": "stream",
     "text": [
      "EM Iterations:  20%|██        | 201/1000 [04:53<19:40,  1.48s/it]"
     ]
    },
    {
     "name": "stdout",
     "output_type": "stream",
     "text": [
      "P L1 loss = 0.5624                  Q L1 Loss = 0.2495\n"
     ]
    },
    {
     "name": "stderr",
     "output_type": "stream",
     "text": [
      "EM Iterations:  25%|██▌       | 251/1000 [06:08<18:49,  1.51s/it]"
     ]
    },
    {
     "name": "stdout",
     "output_type": "stream",
     "text": [
      "P L1 loss = 0.5624                  Q L1 Loss = 0.2403\n"
     ]
    },
    {
     "name": "stderr",
     "output_type": "stream",
     "text": [
      "EM Iterations:  30%|███       | 301/1000 [07:22<16:59,  1.46s/it]"
     ]
    },
    {
     "name": "stdout",
     "output_type": "stream",
     "text": [
      "P L1 loss = 0.5624                  Q L1 Loss = 0.2501\n"
     ]
    },
    {
     "name": "stderr",
     "output_type": "stream",
     "text": [
      "EM Iterations:  35%|███▌      | 351/1000 [08:36<15:39,  1.45s/it]"
     ]
    },
    {
     "name": "stdout",
     "output_type": "stream",
     "text": [
      "P L1 loss = 0.5624                  Q L1 Loss = 0.2505\n"
     ]
    },
    {
     "name": "stderr",
     "output_type": "stream",
     "text": [
      "EM Iterations:  40%|████      | 401/1000 [09:49<14:44,  1.48s/it]"
     ]
    },
    {
     "name": "stdout",
     "output_type": "stream",
     "text": [
      "P L1 loss = 0.5624                  Q L1 Loss = 0.2427\n"
     ]
    },
    {
     "name": "stderr",
     "output_type": "stream",
     "text": [
      "EM Iterations:  45%|████▌     | 451/1000 [11:02<13:06,  1.43s/it]"
     ]
    },
    {
     "name": "stdout",
     "output_type": "stream",
     "text": [
      "P L1 loss = 0.5624                  Q L1 Loss = 0.2413\n"
     ]
    },
    {
     "name": "stderr",
     "output_type": "stream",
     "text": [
      "EM Iterations:  50%|█████     | 501/1000 [12:16<12:07,  1.46s/it]"
     ]
    },
    {
     "name": "stdout",
     "output_type": "stream",
     "text": [
      "P L1 loss = 0.5624                  Q L1 Loss = 0.239\n"
     ]
    },
    {
     "name": "stderr",
     "output_type": "stream",
     "text": [
      "EM Iterations:  55%|█████▌    | 551/1000 [13:34<11:37,  1.55s/it]"
     ]
    },
    {
     "name": "stdout",
     "output_type": "stream",
     "text": [
      "P L1 loss = 0.5624                  Q L1 Loss = 0.2465\n"
     ]
    },
    {
     "name": "stderr",
     "output_type": "stream",
     "text": [
      "EM Iterations:  60%|██████    | 601/1000 [14:53<10:30,  1.58s/it]"
     ]
    },
    {
     "name": "stdout",
     "output_type": "stream",
     "text": [
      "P L1 loss = 0.5624                  Q L1 Loss = 0.2419\n"
     ]
    },
    {
     "name": "stderr",
     "output_type": "stream",
     "text": [
      "EM Iterations:  65%|██████▌   | 651/1000 [16:11<09:27,  1.63s/it]"
     ]
    },
    {
     "name": "stdout",
     "output_type": "stream",
     "text": [
      "P L1 loss = 0.5624                  Q L1 Loss = 0.2424\n"
     ]
    },
    {
     "name": "stderr",
     "output_type": "stream",
     "text": [
      "EM Iterations:  70%|███████   | 701/1000 [17:32<08:27,  1.70s/it]"
     ]
    },
    {
     "name": "stdout",
     "output_type": "stream",
     "text": [
      "P L1 loss = 0.5624                  Q L1 Loss = 0.2448\n"
     ]
    },
    {
     "name": "stderr",
     "output_type": "stream",
     "text": [
      "EM Iterations:  75%|███████▌  | 751/1000 [18:57<06:50,  1.65s/it]"
     ]
    },
    {
     "name": "stdout",
     "output_type": "stream",
     "text": [
      "P L1 loss = 0.5624                  Q L1 Loss = 0.2437\n"
     ]
    },
    {
     "name": "stderr",
     "output_type": "stream",
     "text": [
      "EM Iterations:  80%|████████  | 801/1000 [20:21<05:46,  1.74s/it]"
     ]
    },
    {
     "name": "stdout",
     "output_type": "stream",
     "text": [
      "P L1 loss = 0.5624                  Q L1 Loss = 0.2507\n"
     ]
    },
    {
     "name": "stderr",
     "output_type": "stream",
     "text": [
      "EM Iterations:  85%|████████▌ | 851/1000 [21:49<04:24,  1.78s/it]"
     ]
    },
    {
     "name": "stdout",
     "output_type": "stream",
     "text": [
      "P L1 loss = 0.5624                  Q L1 Loss = 0.2433\n"
     ]
    },
    {
     "name": "stderr",
     "output_type": "stream",
     "text": [
      "EM Iterations:  90%|█████████ | 901/1000 [23:17<02:58,  1.80s/it]"
     ]
    },
    {
     "name": "stdout",
     "output_type": "stream",
     "text": [
      "P L1 loss = 0.5624                  Q L1 Loss = 0.2483\n"
     ]
    },
    {
     "name": "stderr",
     "output_type": "stream",
     "text": [
      "EM Iterations:  95%|█████████▌| 951/1000 [24:48<01:28,  1.81s/it]"
     ]
    },
    {
     "name": "stdout",
     "output_type": "stream",
     "text": [
      "P L1 loss = 0.5624                  Q L1 Loss = 0.2419\n"
     ]
    },
    {
     "name": "stderr",
     "output_type": "stream",
     "text": [
      "EM Iterations: 100%|██████████| 1000/1000 [26:16<00:00,  1.58s/it]"
     ]
    },
    {
     "name": "stdout",
     "output_type": "stream",
     "text": [
      "done\n"
     ]
    },
    {
     "name": "stderr",
     "output_type": "stream",
     "text": [
      "\n"
     ]
    }
   ],
   "source": [
    "import numpy as np\n",
    "from tqdm import tqdm\n",
    "\n",
    "#### run this code \n",
    "print('starting now ')\n",
    "targ_Q = np.array(pd.read_csv(\"ps2_admixture.pruned.3.Q\", delim_whitespace=True, header=None))\n",
    "targ_P = np.array(pd.read_csv(\"ps2_admixture.pruned.3.P\", delim_whitespace=True, header=None))\n",
    "def naive_admixture(genotypes, num_individuals, num_snps, K=3, num_iterations=1000):\n",
    "    # Initialize P (allele frequencies) randomly for each SNP for each population\n",
    "    P = (np.random.rand(num_snps, K)/5)+0.4\n",
    "    \n",
    "    # Initialize Q (ancestry proportions) randomly for each individual\n",
    "    Q = (np.random.rand(num_individuals, K)/5)+0.4\n",
    "    \n",
    "    # Normalize P and Q so they sum to 1 across the K populations\n",
    "    P /= P.sum(axis=1, keepdims=True)\n",
    "    Q /= Q.sum(axis=1, keepdims=True)\n",
    "    N_limit = 90  # EM algorithm with progress bar from tqdm\n",
    "    for iter in tqdm(range(num_iterations), desc=\"EM Iterations\"):\n",
    "        # E-step: Estimate ancestry fractions\n",
    "        for i in range(num_individuals):\n",
    "            stoch_indices = np.random.choice(num_snps, N_limit, replace = False)\n",
    "            curr_genotypes = genotypes[stoch_indices,i]\n",
    "            probs = P[stoch_indices,:] ** np.tile(curr_genotypes.reshape(-1,1), (1,K)) * (1-P[stoch_indices,:]) ** (2-np.tile(curr_genotypes.reshape(-1,1), (1,K)))\n",
    "            good_indices = np.logical_not(np.any(np.isnan(probs), 1))\n",
    "            probs = probs[good_indices]\n",
    "            good_indices = np.logical_not(np.any(probs==0, 1))\n",
    "            probs = probs[good_indices]\n",
    "            probs = probs / probs.sum(1).reshape(-1,1)\n",
    "            \n",
    "            log_probs = np.sum(np.log(probs), 0)\n",
    "            log_probs = log_probs - log_probs.max()\n",
    "            Q[i] = np.exp(log_probs) + 1e-10\n",
    "            Q[i] = Q[i] / Q[i].sum()\n",
    "#             print(Q[i])\n",
    "#             asdf\n",
    "#             print(curr_genotypes)\n",
    "#             print(curr_genotypes.shape)\n",
    "#             print(P.shape)\n",
    "#             asdf\n",
    "            \n",
    "            \n",
    "            \n",
    "#             for j in range(num_snps-1):\n",
    "#                 genotype = genotypes[j, i]\n",
    "#                 probs = P[j] ** genotype * (1 - P[j]) ** (2 - genotype)\n",
    "#                 if np.any(np.isnan(probs)):\n",
    "#                     continue\n",
    "#                 Q[i] *= probs\n",
    "                \n",
    "            # Normalize Q for this individual\n",
    "        \n",
    "            \n",
    "\n",
    "        # M-step: Update allele frequencies\n",
    "#         for j in tqdm(range(num_snps), desc=\"M-step\", leave=False):\n",
    "        for j in range(num_snps):\n",
    "            for k in range(K):\n",
    "                curr_genotypes = genotypes[j]\n",
    "                good_indices = np.logical_not(np.isnan(curr_genotypes))\n",
    "                curr_Q = Q[:,k]\n",
    "                curr_Q = curr_Q[good_indices]\n",
    "                curr_genotypes = curr_genotypes[good_indices]\n",
    "                P[j, k] = np.sum(curr_Q * curr_genotypes) / (1e-10 + (2 * np.sum(curr_Q)))\n",
    "            # Normalize P for this SNP\n",
    "            P[j] /= P[j].sum()\n",
    "        \n",
    "        if iter % 50 == 0:\n",
    "            l1_P = np.abs((targ_P - P)).mean().round(4)\n",
    "            l1_Q = np.abs((targ_Q - Q)).mean().round(4)\n",
    "            print('P L1 loss = {}                  Q L1 Loss = {}'.format(l1_P, l1_Q))\n",
    "\n",
    "    # Save results to files\n",
    "    np.savetxt('result.Q', Q, fmt='%f')\n",
    "    np.savetxt('result.P', P, fmt='%f')\n",
    "    \n",
    "    return Q, P\n",
    "\n",
    "# Assuming 'genotype_matrix' is already defined and loaded with your actual genotype data\n",
    "# Running the naive admixture analysis\n",
    "### These L1 losses are not very accurate as the original population codes are getting changed. \n",
    "Q, P = naive_admixture(genotype_matrix, num_individuals, num_snps)\n",
    "print('done')\n"
   ]
  },
  {
   "cell_type": "code",
   "execution_count": 10,
   "id": "cc1dbd2f",
   "metadata": {},
   "outputs": [
    {
     "name": "stdout",
     "output_type": "stream",
     "text": [
      "Populating the interactive namespace from numpy and matplotlib\n",
      "These are the actual results from the admixture tool \n"
     ]
    },
    {
     "data": {
      "image/png": "[encoded data removed]",
      "text/plain": [
       "<Figure size 720x576 with 1 Axes>"
      ]
     },
     "metadata": {
      "needs_background": "light"
     },
     "output_type": "display_data"
    }
   ],
   "source": [
    "%pylab inline\n",
    "\n",
    "# The code below makes ADMIXTURE bar plots based on your results\n",
    "# It will fail if your ADMIXTURE run was not complete or if you did not\n",
    "# output results to the specified output files!\n",
    "# Please ensure you get plots (and the notebook validates)\n",
    "# to get full points.\n",
    "\n",
    "sampleinfo = pd.read_csv(\"~/public/1000Genomes/igsr_samples.tsv\", sep=\"\\t\")\n",
    "sample_to_pop = dict(zip(list(sampleinfo[\"Sample name\"]), list(sampleinfo[\"Population code\"])))\n",
    "samples = [line.split()[0] for line in open(\"ps2_admixture.pruned.fam\", \"r\").readlines()]\n",
    "pops = [sample_to_pop.get(item, \"NA\") for item in samples]\n",
    "\n",
    "fig = plt.figure()\n",
    "fig.set_size_inches((10, 8))\n",
    "\n",
    "plotind = 1\n",
    "for K in [3]:\n",
    "    ax = fig.add_subplot(3, 1, plotind)\n",
    "    \n",
    "    data = pd.read_csv(\"result.Q\", delim_whitespace=True, header=None)\n",
    "    cols = list(data.columns)\n",
    "    data[\"sample\"] = samples\n",
    "    data[\"pop\"] = pops\n",
    "    data = data.sort_values([\"pop\"]+cols)\n",
    "    data.plot.bar(stacked=True, ax=ax, width=1)\n",
    "    ax.spines['right'].set_visible(False)\n",
    "    ax.spines['top'].set_visible(False)\n",
    "    ax.yaxis.set_ticks_position('left')\n",
    "    ax.xaxis.set_ticks_position('bottom')\n",
    "    \n",
    "    # Only plot label for first sample in each pop\n",
    "    xticklabels = []\n",
    "    currpop = \"\"\n",
    "    for i in range(data.shape[0]):\n",
    "        if data[\"pop\"].values[i] == currpop:\n",
    "            xticklabels.append(\"\")\n",
    "        else:\n",
    "            xticklabels.append(data[\"pop\"].values[i])\n",
    "            currpop = data[\"pop\"].values[i]\n",
    "    ax.set_xticklabels(xticklabels)\n",
    "    \n",
    "    plotind += 1\n",
    "fig.tight_layout()\n",
    "\n",
    "\n",
    "print(\"These are the actual results from the admixture tool \" )"
   ]
  },
  {
   "cell_type": "code",
   "execution_count": null,
   "id": "74a5effc",
   "metadata": {},
   "outputs": [],
   "source": [
    "##### #All the cells after this are just other codes that didn't work, you can take a look if you want but there\n",
    "##### are not considered a part of the projetct currently. "
   ]
  },
  {
   "cell_type": "code",
   "execution_count": null,
   "id": "f167c599",
   "metadata": {},
   "outputs": [],
   "source": [
    "import numpy as np\n",
    "#######dont run this , this is too slow. \n",
    "def naive_admixture(genotypes, num_individuals, num_snps, K=3, num_iterations=10):\n",
    "    # Initialize P (allele frequencies) randomly for each SNP for each population\n",
    "    P = np.random.rand(num_snps, K)\n",
    "    \n",
    "    # Initialize Q (ancestry proportions) randomly for each individual\n",
    "    Q = np.random.rand(num_individuals, K)\n",
    "    \n",
    "    # Normalize P and Q so they sum to 1 across the K populations\n",
    "    P /= P.sum(axis=1, keepdims=True)\n",
    "    Q /= Q.sum(axis=1, keepdims=True)\n",
    "    \n",
    "    # EM algorithm\n",
    "    for _ in range(num_iterations):\n",
    "        # E-step: Estimate ancestry fractions\n",
    "        # Here we assume genotypes are encoded as 0, 1, or 2\n",
    "        # and use a very simple model where each genotype\n",
    "        # probability is just the product of allele frequencies\n",
    "        for i in range(num_individuals):\n",
    "            for j in range(num_snps):\n",
    "                genotype = genotypes[j, i]\n",
    "                probs = P[j] ** genotype * (1 - P[j]) ** (2 - genotype)\n",
    "                if np.any(np.isnan(probs)):\n",
    "                    continue\n",
    "                Q[i] *= probs\n",
    "                \n",
    "            # Normalize Q for this individual\n",
    "            Q[i] /= Q[i].sum()\n",
    "\n",
    "        # M-step: Update allele frequencies\n",
    "        for j in range(num_snps):\n",
    "            for k in range(K):\n",
    "                # This is a very naive way to update allele frequencies,\n",
    "                # just based on the average ancestry fraction weighted by genotype\n",
    "                P[j, k] = np.sum(Q[:, k] * genotypes[j]) / (2 * np.sum(Q[:, k]))\n",
    "                \n",
    "            # Normalize P for this SNP\n",
    "            P[j] /= P[j].sum()\n",
    "\n",
    "    # Save results to files\n",
    "    np.savetxt('result.Q', Q, fmt='%f')\n",
    "    np.savetxt('result.P', P, fmt='%f')\n",
    "    \n",
    "    return Q, P\n",
    "\n",
    "# Dummy data for testing the function\n",
    "num_individuals = 668  # Replace with your actual number of individuals\n",
    "num_snps = 205857      # Replace with your actual number of SNPs\n",
    "\n",
    "# Randomly generated dummy genotype data\n",
    "# In real scenario, you would read from your .bed file\n",
    "##genotypes = np.random.randint(0, 3, (num_snps, num_individuals))\n",
    "genotypes = genotype_matrix\n",
    "# Running the naive admixture analysis\n",
    "Q, P = naive_admixture(genotypes, num_individuals, num_snps)\n",
    "print('done')"
   ]
  },
  {
   "cell_type": "code",
   "execution_count": 4,
   "id": "bfed0c2a",
   "metadata": {},
   "outputs": [
    {
     "name": "stdout",
     "output_type": "stream",
     "text": [
      "starting code \n"
     ]
    },
    {
     "ename": "KeyboardInterrupt",
     "evalue": "",
     "output_type": "error",
     "traceback": [
      "\u001b[0;31m---------------------------------------------------------------------------\u001b[0m",
      "\u001b[0;31mKeyboardInterrupt\u001b[0m                         Traceback (most recent call last)",
      "\u001b[0;32m/tmp/ipykernel_265/292336622.py\u001b[0m in \u001b[0;36m<module>\u001b[0;34m\u001b[0m\n\u001b[1;32m     54\u001b[0m \u001b[0;34m\u001b[0m\u001b[0m\n\u001b[1;32m     55\u001b[0m \u001b[0;31m# Read the genotype data from the .bed file\u001b[0m\u001b[0;34m\u001b[0m\u001b[0;34m\u001b[0m\u001b[0;34m\u001b[0m\u001b[0m\n\u001b[0;32m---> 56\u001b[0;31m \u001b[0mgenotype_matrix\u001b[0m \u001b[0;34m=\u001b[0m \u001b[0mread_bed_file\u001b[0m\u001b[0;34m(\u001b[0m\u001b[0mbed_file_path\u001b[0m\u001b[0;34m,\u001b[0m \u001b[0mnum_individuals\u001b[0m\u001b[0;34m,\u001b[0m \u001b[0mnum_snps\u001b[0m\u001b[0;34m)\u001b[0m\u001b[0;34m\u001b[0m\u001b[0;34m\u001b[0m\u001b[0m\n\u001b[0m\u001b[1;32m     57\u001b[0m \u001b[0mprint\u001b[0m\u001b[0;34m(\u001b[0m\u001b[0mgenotype_matrix\u001b[0m\u001b[0;34m.\u001b[0m\u001b[0mshape\u001b[0m\u001b[0;34m)\u001b[0m\u001b[0;34m\u001b[0m\u001b[0;34m\u001b[0m\u001b[0m\n\u001b[1;32m     58\u001b[0m \u001b[0;31m# You can now proceed with your admixture analysis using the `genotype_matrix`\u001b[0m\u001b[0;34m\u001b[0m\u001b[0;34m\u001b[0m\u001b[0;34m\u001b[0m\u001b[0m\n",
      "\u001b[0;32m/tmp/ipykernel_265/292336622.py\u001b[0m in \u001b[0;36mread_bed_file\u001b[0;34m(bed_file_path, num_individuals, num_snps)\u001b[0m\n\u001b[1;32m     34\u001b[0m                 \u001b[0;32mif\u001b[0m \u001b[0mgenotype_code\u001b[0m \u001b[0;34m==\u001b[0m \u001b[0;36m0b00\u001b[0m\u001b[0;34m:\u001b[0m\u001b[0;34m\u001b[0m\u001b[0;34m\u001b[0m\u001b[0m\n\u001b[1;32m     35\u001b[0m                     \u001b[0mgenotypes\u001b[0m\u001b[0;34m[\u001b[0m\u001b[0msnp_index\u001b[0m\u001b[0;34m,\u001b[0m \u001b[0mi\u001b[0m\u001b[0;34m]\u001b[0m \u001b[0;34m=\u001b[0m \u001b[0;36m0\u001b[0m  \u001b[0;31m# Homozygous first allele\u001b[0m\u001b[0;34m\u001b[0m\u001b[0;34m\u001b[0m\u001b[0m\n\u001b[0;32m---> 36\u001b[0;31m                 \u001b[0;32melif\u001b[0m \u001b[0mgenotype_code\u001b[0m \u001b[0;34m==\u001b[0m \u001b[0;36m0b11\u001b[0m\u001b[0;34m:\u001b[0m\u001b[0;34m\u001b[0m\u001b[0;34m\u001b[0m\u001b[0m\n\u001b[0m\u001b[1;32m     37\u001b[0m                     \u001b[0;31m#print('hit')\u001b[0m\u001b[0;34m\u001b[0m\u001b[0;34m\u001b[0m\u001b[0;34m\u001b[0m\u001b[0m\n\u001b[1;32m     38\u001b[0m                     \u001b[0mgenotypes\u001b[0m\u001b[0;34m[\u001b[0m\u001b[0msnp_index\u001b[0m\u001b[0;34m,\u001b[0m \u001b[0mi\u001b[0m\u001b[0;34m]\u001b[0m \u001b[0;34m=\u001b[0m \u001b[0;36m2\u001b[0m  \u001b[0;31m# Homozygous second allele\u001b[0m\u001b[0;34m\u001b[0m\u001b[0;34m\u001b[0m\u001b[0m\n",
      "\u001b[0;31mKeyboardInterrupt\u001b[0m: "
     ]
    }
   ],
   "source": [
    "## This is our code for the admixture \n",
    "\n",
    "################ code 2 for the admixtute, runs on the input bed file \n",
    "\n",
    "import numpy as np\n",
    "print('starting code ')\n",
    "def read_bed_file(bed_file_path, num_individuals, num_snps):\n",
    "    \"\"\"Read genotype data from a .bed file.\"\"\"\n",
    "    # Open the .bed file in binary mode\n",
    "    with open(bed_file_path, 'rb') as bed_file:\n",
    "        # Skip the header\n",
    "        bed_file.read(3)\n",
    "        \n",
    "        # Calculate the number of bytes to read per row\n",
    "        bytes_per_row = (num_individuals + 3) // 4\n",
    "        \n",
    "        # Initialize an empty array to store the genotype data\n",
    "        genotypes = np.zeros((num_snps, num_individuals), dtype=float)\n",
    "        \n",
    "        for snp_index in range(num_snps):\n",
    "            # Read a row of data\n",
    "            row_data = bed_file.read(bytes_per_row)\n",
    "            byte_array = np.frombuffer(row_data, dtype=np.uint8)\n",
    "            \n",
    "            # Decode the genotypes from the byte array\n",
    "            for i in range(num_individuals):\n",
    "                byte_index = i // 4\n",
    "                if byte_index >= len(byte_array):\n",
    "                    #print('breaking oh no ')\n",
    "                    break\n",
    "                bit_index = (i % 4) * 2\n",
    "                genotype_code = (byte_array[byte_index] >> bit_index) & 0b11\n",
    "                #print(genotype_code)\n",
    "                if genotype_code == 0b00:\n",
    "                    genotypes[snp_index, i] = 0  # Homozygous first allele\n",
    "                elif genotype_code == 0b11:\n",
    "                    #print('hit')\n",
    "                    genotypes[snp_index, i] = 2  # Homozygous second allele\n",
    "                elif genotype_code == 0b01  :\n",
    "                    genotypes[snp_index, i] = 1  # Heterozygous\n",
    "                else:\n",
    "                    #print( genotype_code)\n",
    "                    genotypes[snp_index, i] = np.nan  # Missing genotype\n",
    "                    \n",
    "    return genotypes\n",
    "\n",
    "# Parameters: Update these based on your .bed file\n",
    "bed_file_path = \"ps2_admixture.pruned.bed\"\n",
    "num_individuals =462   \n",
    "#668  # Update with the correct number of individuals in your dataset\n",
    "num_snps = 26499   \n",
    "##205857       # Update with the correct number of SNPs\n",
    "bytes_per_row = (num_individuals * 2 + 7) // 8\n",
    "\n",
    "# Read the genotype data from the .bed file\n",
    "genotype_matrix = read_bed_file(bed_file_path, num_individuals, num_snps)\n",
    "print(genotype_matrix.shape)\n",
    "# You can now proceed with your admixture analysis using the `genotype_matrix`\n",
    "\n",
    "import numpy as np\n",
    "\n",
    "def estimate_allele_frequencies(genotype_matrix):\n",
    "    \"\"\"Estimate allele frequencies in the genotype data.\"\"\"\n",
    "    # Count alleles (note: assumes 0, 1, 2 coding for genotypes)\n",
    "    allele_counts = np.nansum(genotype_matrix, axis=1)\n",
    "    # Count non-missing genotypes\n",
    "    non_missing_counts = np.count_nonzero(~np.isnan(genotype_matrix), axis=1) * 2\n",
    "    # Calculate frequencies\n",
    "    allele_frequencies = allele_counts / non_missing_counts\n",
    "    return allele_frequencies\n",
    "\n",
    "def estimate_admixture_proportions(genotype_matrix, ancestral_freqs):\n",
    "    \"\"\"Estimate admixture proportions based on allele frequencies.\"\"\"\n",
    "    num_individuals = genotype_matrix.shape[1]\n",
    "    admixture_proportions = np.zeros((num_individuals, len(ancestral_freqs)))\n",
    "    \n",
    "    for i, individual_genotypes in enumerate(genotype_matrix.T):  # Iterate through individuals\n",
    "        for j, freqs in enumerate(ancestral_freqs):  # Iterate through ancestral populations\n",
    "            # Calculate similarity score based on allele frequencies\n",
    "            similarity_score = np.nansum(np.abs(individual_genotypes - freqs))\n",
    "            admixture_proportions[i, j] = similarity_score\n",
    "    \n",
    "    # Normalize admixture proportions so they sum to 1 for each individual\n",
    "    admixture_proportions = 1 - (admixture_proportions / np.nansum(admixture_proportions, axis=1, keepdims=True))\n",
    "    \n",
    "    return admixture_proportions\n",
    "\n",
    "# Load your genotype_matrix from the .bed file as shown in the previous example\n",
    "\n",
    "# Hypothetical allele frequencies for two ancestral populations\n",
    "ancestral_freqs = [\n",
    "    np.random.uniform(0, 1, genotype_matrix.shape[0]),  # Ancestral pop 1\n",
    "    np.random.uniform(0, 1, genotype_matrix.shape[0])   # Ancestral pop 2\n",
    "]\n",
    "\n",
    "# Estimate admixture proportions\n",
    "admixture_proportions = estimate_admixture_proportions(genotype_matrix, ancestral_freqs)\n",
    "\n",
    "# Example: Print admixture proportions for the first 5 individuals\n",
    "print(admixture_proportions[:5])\n",
    "\n",
    "\n",
    "\n",
    "## IF we want to run it without any asssumptions about allelle frequencies.  \n",
    "\n",
    "import numpy as np\n",
    "from sklearn.cluster import KMeans\n",
    "\n",
    "def estimate_allele_frequencies(genotype_matrix):\n",
    "    \"\"\"Estimate allele frequencies in the genotype data.\"\"\"\n",
    "    # Assuming 0, 1, 2 encoding for genotypes\n",
    "    allele_counts = np.nansum(genotype_matrix, axis=1)\n",
    "    # Count non-missing genotypes\n",
    "    non_missing_counts = np.count_nonzero(~np.isnan(genotype_matrix), axis=1) * 2\n",
    "    # Calculate frequencies\n",
    "    allele_frequencies = allele_counts / non_missing_counts\n",
    "    return allele_frequencies\n",
    "\n",
    "def cluster_individuals(genotype_matrix, n_clusters=2):\n",
    "    \"\"\"Cluster individuals based on their genetic data.\"\"\"\n",
    "    # Transpose matrix to have individuals as rows\n",
    "    individuals_matrix = genotype_matrix.T\n",
    "    # Handle missing data by imputing with the mean\n",
    "    nan_mask = np.isnan(individuals_matrix)\n",
    "    mean_genotypes = np.nanmean(individuals_matrix, axis=0)\n",
    "    individuals_matrix[nan_mask] = np.take(mean_genotypes, np.where(nan_mask)[1])\n",
    "    # Use KMeans for clustering\n",
    "    kmeans = KMeans(n_clusters=n_clusters, random_state=0).fit(individuals_matrix)\n",
    "    return kmeans.labels_, kmeans.cluster_centers_\n",
    "\n",
    "def estimate_admixture_proportions(cluster_centers):\n",
    "    \"\"\"Estimate admixture proportions based on cluster centers.\"\"\"\n",
    "    # Normalize cluster centers to get admixture proportions\n",
    "    admixture_proportions = cluster_centers / np.sum(cluster_centers, axis=1, keepdims=True)\n",
    "    return admixture_proportions\n",
    "\n",
    "# Load your genotype_matrix from the .bed file as shown in the previous example\n",
    "\n",
    "# Cluster individuals (adjust n_clusters as needed)\n",
    "#labels, cluster_centers = cluster_individuals(genotype_matrix, n_clusters=2)\n",
    "\n",
    "# Estimate admixture proportions based on the cluster centers\n",
    "#admixture_proportions = estimate_admixture_proportions(cluster_centers)\n",
    "\n",
    "# Example: Print the cluster assignment for the first 5 individuals\n",
    "#print(\"Cluster labels for the first 5 individuals:\", labels[:5])\n",
    "print('done')\n",
    "dimensions = genotype_matrix.shape\n",
    "\n",
    "\n",
    "\n",
    "# Calculate frequencies of all values\n",
    "\n",
    "(unique, counts) = np.unique(genotype_matrix, return_counts=True)\n",
    "\n",
    "frequencies = np.asarray((unique, counts)).T\n",
    "\n",
    "# Change binary genotype to ped+map format\n",
    "#plink --bfile ps2_admixture.pruned.bed --cow --nonfounders --allow-no-sex --recode --out ps2_admix_trial\n",
    "\n",
    "print(dimensions, frequencies)"
   ]
  },
  {
   "cell_type": "code",
   "execution_count": 40,
   "id": "33c4b113",
   "metadata": {},
   "outputs": [
    {
     "ename": "ValueError",
     "evalue": "could not convert string to float: 'C'",
     "output_type": "error",
     "traceback": [
      "\u001b[0;31m---------------------------------------------------------------------------\u001b[0m",
      "\u001b[0;31mValueError\u001b[0m                                Traceback (most recent call last)",
      "\u001b[0;32m/tmp/ipykernel_111/2621099544.py\u001b[0m in \u001b[0;36m<module>\u001b[0;34m\u001b[0m\n\u001b[1;32m     32\u001b[0m     \u001b[0;32mreturn\u001b[0m \u001b[0mQ\u001b[0m\u001b[0;34m\u001b[0m\u001b[0;34m\u001b[0m\u001b[0m\n\u001b[1;32m     33\u001b[0m \u001b[0;34m\u001b[0m\u001b[0m\n\u001b[0;32m---> 34\u001b[0;31m \u001b[0mP_init\u001b[0m \u001b[0;34m=\u001b[0m \u001b[0minitialize_P_from_bim\u001b[0m\u001b[0;34m(\u001b[0m\u001b[0;34m'ps2_admixture.pruned.bim'\u001b[0m\u001b[0;34m,\u001b[0m \u001b[0mnum_snps\u001b[0m\u001b[0;34m,\u001b[0m \u001b[0;36m3\u001b[0m\u001b[0;34m)\u001b[0m\u001b[0;34m\u001b[0m\u001b[0;34m\u001b[0m\u001b[0m\n\u001b[0m\u001b[1;32m     35\u001b[0m \u001b[0mQ_init\u001b[0m \u001b[0;34m=\u001b[0m \u001b[0minitialize_Q_from_fam\u001b[0m\u001b[0;34m(\u001b[0m\u001b[0;34m'ps2_admixture.pruned.fam'\u001b[0m\u001b[0;34m,\u001b[0m \u001b[0mnum_individuals\u001b[0m\u001b[0;34m,\u001b[0m \u001b[0;36m3\u001b[0m\u001b[0;34m)\u001b[0m\u001b[0;34m\u001b[0m\u001b[0;34m\u001b[0m\u001b[0m\n",
      "\u001b[0;32m/tmp/ipykernel_111/2621099544.py\u001b[0m in \u001b[0;36minitialize_P_from_bim\u001b[0;34m(bim_file_path, num_snps, K)\u001b[0m\n\u001b[1;32m      7\u001b[0m             \u001b[0;31m# Otherwise, you would have to calculate it from your genotype data\u001b[0m\u001b[0;34m\u001b[0m\u001b[0;34m\u001b[0m\u001b[0;34m\u001b[0m\u001b[0m\n\u001b[1;32m      8\u001b[0m             \u001b[0;31m# Here, we're just using a placeholder value\u001b[0m\u001b[0;34m\u001b[0m\u001b[0;34m\u001b[0m\u001b[0;34m\u001b[0m\u001b[0m\n\u001b[0;32m----> 9\u001b[0;31m             \u001b[0mmaf\u001b[0m \u001b[0;34m=\u001b[0m \u001b[0mfloat\u001b[0m\u001b[0;34m(\u001b[0m\u001b[0mparts\u001b[0m\u001b[0;34m[\u001b[0m\u001b[0;36m4\u001b[0m\u001b[0;34m]\u001b[0m\u001b[0;34m)\u001b[0m\u001b[0;34m\u001b[0m\u001b[0;34m\u001b[0m\u001b[0m\n\u001b[0m\u001b[1;32m     10\u001b[0m             \u001b[0mallele_frequencies\u001b[0m\u001b[0;34m[\u001b[0m\u001b[0msnp_index\u001b[0m\u001b[0;34m]\u001b[0m \u001b[0;34m=\u001b[0m \u001b[0;34m[\u001b[0m\u001b[0mmaf\u001b[0m\u001b[0;34m,\u001b[0m \u001b[0;36m1\u001b[0m \u001b[0;34m-\u001b[0m \u001b[0mmaf\u001b[0m\u001b[0;34m]\u001b[0m  \u001b[0;31m# Assuming the first allele is the minor allele\u001b[0m\u001b[0;34m\u001b[0m\u001b[0;34m\u001b[0m\u001b[0m\n\u001b[1;32m     11\u001b[0m \u001b[0;34m\u001b[0m\u001b[0m\n",
      "\u001b[0;31mValueError\u001b[0m: could not convert string to float: 'C'"
     ]
    }
   ],
   "source": [
    "def initialize_P_from_bim(bim_file_path, num_snps, K):\n",
    "    allele_frequencies = np.zeros((num_snps, 2))  # Assuming two alleles per SNP\n",
    "    with open(bim_file_path, 'r') as bim_file:\n",
    "        for snp_index, line in enumerate(bim_file):\n",
    "            parts = line.strip().split()\n",
    "            # parts[4] is the minor allele frequency (MAF) for this SNP, if available\n",
    "            # Otherwise, you would have to calculate it from your genotype data\n",
    "            # Here, we're just using a placeholder value\n",
    "            maf = float(parts[4])  \n",
    "            allele_frequencies[snp_index] = [maf, 1 - maf]  # Assuming the first allele is the minor allele\n",
    "    \n",
    "    # Randomly initialize P based on allele frequencies\n",
    "    # This is a simplistic way to use the allele frequencies for initialization\n",
    "    P = np.zeros((num_snps, K))\n",
    "    for k in range(K):\n",
    "        P[:, k] = allele_frequencies[:, 0] + (np.random.rand(num_snps) * (allele_frequencies[:, 1] - allele_frequencies[:, 0]))\n",
    "    \n",
    "    P /= P.sum(axis=1, keepdims=True)\n",
    "    return P\n",
    "\n",
    "def initialize_Q_from_fam(fam_file_path, num_individuals, K):\n",
    "    Q = np.zeros((num_individuals, K))\n",
    "    with open(fam_file_path, 'r') as fam_file:\n",
    "        for i, line in enumerate(fam_file):\n",
    "            parts = line.strip().split()\n",
    "            population_label = parts[5]  # Assuming population label is in the sixth column\n",
    "            # Convert population_label to an index and assign the initial ancestry proportion\n",
    "            # Here, you'd have a mapping of population labels to indices\n",
    "            Q[i, population_label_to_index[population_label]] = 1\n",
    "    \n",
    "    Q /= Q.sum(axis=1, keepdims=True)\n",
    "    return Q\n",
    "\n",
    "P_init = initialize_P_from_bim('ps2_admixture.pruned.bim', num_snps, 3)\n",
    "Q_init = initialize_Q_from_fam('ps2_admixture.pruned.fam', num_individuals, 3)"
   ]
  },
  {
   "cell_type": "code",
   "execution_count": 26,
   "id": "4557a967",
   "metadata": {},
   "outputs": [],
   "source": [
    "import numpy as np\n",
    "import pandas as pd\n",
    "\n",
    "# Load your genotype matrix where rows are SNPs and columns are individuals\n",
    "# For demonstration, let's assume it's already loaded into a variable named `genotype_matrix`\n",
    "\n",
    "# Let's assume the genotype_matrix is coded as:\n",
    "# 0 for the homozygous reference allele\n",
    "# 1 for the heterozygous allele\n",
    "# 2 for the homozygous alternate allele\n",
    "# NaN for missing data\n",
    "\n",
    "# Calculate the frequency of the alternate allele (allele 2 from the .bim file)\n",
    "allele_2_counts = np.nansum(genotype_matrix, axis=1)  # Sum the genotypes for each SNP\n",
    "heterozygous_counts = np.sum(genotype_matrix == 1, axis=1)  # Count the heterozygotes\n",
    "allele_2_frequencies = (allele_2_counts + heterozygous_counts) / (2 * (~np.isnan(genotype_matrix)).sum(axis=1))\n",
    "\n",
    "# If you need frequencies of the reference allele, simply subtract from 1\n",
    "allele_1_frequencies = 1 - allele_2_frequencies\n",
    "import numpy as np\n",
    "\n",
    "# Assume genotype_matrix is loaded, with shape (num_snps, num_individuals)\n",
    "# and contains genotypes encoded as 0, 1, 2, and NaN for missing data.\n",
    "\n",
    "# Calculate allele 2 frequencies\n",
    "allele_2_counts = np.nansum(genotype_matrix, axis=1)  # Sum the genotypes for each SNP\n",
    "heterozygous_counts = np.sum(genotype_matrix == 1, axis=1)  # Count the heterozygotes\n",
    "allele_2_frequencies = (allele_2_counts + heterozygous_counts) / (2 * (~np.isnan(genotype_matrix)).sum(axis=1))\n",
    "\n",
    "# Initialize P using these frequencies\n",
    "num_snps, num_individuals = genotype_matrix.shape\n",
    "K = 3  # For example, assuming there are 3 populations\n",
    "P = np.zeros((num_snps, K))\n",
    "\n",
    "for k in range(K):\n",
    "    # Use the allele 2 frequencies to initialize one allele's frequency in P\n",
    "    # and assume that allele 1's frequency is (1 - allele 2 frequency)\n",
    "    # You can add some noise to these initial frequencies if desired\n",
    "    P[:, k] = allele_2_frequencies + np.random.normal(0, 0.1, num_snps)  # Adding small noise\n",
    "\n",
    "# Ensure P's frequencies are normalized\n",
    "P = np.clip(P, 0.0001, 0.9999)  # Clip values to avoid 0 or 1, which are problematic in log calculations\n",
    "P /= P.sum(axis=1, keepdims=True)\n"
   ]
  },
  {
   "cell_type": "code",
   "execution_count": 27,
   "id": "49efa0b0",
   "metadata": {},
   "outputs": [
    {
     "data": {
      "text/plain": [
       "array([[0.33496071, 0.33007857, 0.33496071],\n",
       "       [0.36782972, 0.34122868, 0.2909416 ],\n",
       "       [0.32455483, 0.33772259, 0.33772259],\n",
       "       [0.35596366, 0.34645851, 0.29757783],\n",
       "       [0.35160963, 0.31503154, 0.33335884],\n",
       "       [0.32718228, 0.3298621 , 0.34295562],\n",
       "       [0.33333333, 0.33333333, 0.33333333],\n",
       "       [0.34227167, 0.31545666, 0.34227167],\n",
       "       [0.31993438, 0.35651119, 0.32355442],\n",
       "       [0.37649258, 0.29033802, 0.3331694 ],\n",
       "       [0.35269232, 0.31124179, 0.33606588],\n",
       "       [0.32994447, 0.34000176, 0.33005377],\n",
       "       [0.34934535, 0.29839873, 0.35225592],\n",
       "       [0.34657085, 0.32702492, 0.32640424],\n",
       "       [0.34026979, 0.37989269, 0.27983753],\n",
       "       [0.34266054, 0.34816223, 0.30917723],\n",
       "       [0.33283235, 0.24873967, 0.41842797],\n",
       "       [0.35544937, 0.33131109, 0.31323954],\n",
       "       [0.30764486, 0.31823334, 0.37412179],\n",
       "       [0.31457598, 0.34271201, 0.34271201],\n",
       "       [0.30355408, 0.34822296, 0.34822296],\n",
       "       [0.29473722, 0.35006612, 0.35519666],\n",
       "       [0.31560736, 0.34093136, 0.34346128],\n",
       "       [0.31371442, 0.33788621, 0.34839937],\n",
       "       [0.32761417, 0.34675736, 0.32562847],\n",
       "       [0.33333333, 0.33333333, 0.33333333],\n",
       "       [0.34434726, 0.29712889, 0.35852385],\n",
       "       [0.32890355, 0.37270417, 0.29839228],\n",
       "       [0.31519611, 0.34158933, 0.34321457],\n",
       "       [0.300037  , 0.3499815 , 0.3499815 ],\n",
       "       [0.34349237, 0.29676762, 0.35974   ],\n",
       "       [0.3514913 , 0.32131508, 0.32719362],\n",
       "       [0.25513139, 0.40266497, 0.34220364],\n",
       "       [0.34629481, 0.34629481, 0.30741039],\n",
       "       [0.28749245, 0.3302821 , 0.38222545],\n",
       "       [0.31467289, 0.34575805, 0.33956906],\n",
       "       [0.31729824, 0.32289987, 0.35980189],\n",
       "       [0.30566711, 0.34726581, 0.34706708],\n",
       "       [0.33383372, 0.33383372, 0.33233255],\n",
       "       [0.36369576, 0.31139371, 0.32491054],\n",
       "       [0.34497016, 0.31059344, 0.3444364 ],\n",
       "       [0.32970688, 0.33514656, 0.33514656],\n",
       "       [0.34734365, 0.29517881, 0.35747755],\n",
       "       [0.39817846, 0.3015067 , 0.30031484],\n",
       "       [0.35558732, 0.30584578, 0.3385669 ],\n",
       "       [0.34846693, 0.34846693, 0.30306614],\n",
       "       [0.33959718, 0.343969  , 0.31643382],\n",
       "       [0.33568383, 0.33111429, 0.33320188],\n",
       "       [0.35740684, 0.30860795, 0.33398521],\n",
       "       [0.35288083, 0.37076824, 0.27635093],\n",
       "       [0.39632303, 0.31631527, 0.2873617 ],\n",
       "       [0.3282556 , 0.31128091, 0.36046349],\n",
       "       [0.33382921, 0.33234157, 0.33382921],\n",
       "       [0.30372263, 0.33703118, 0.35924619],\n",
       "       [0.3523489 , 0.30444662, 0.34320449],\n",
       "       [0.32904514, 0.3295906 , 0.34136426],\n",
       "       [0.33333333, 0.33333333, 0.33333333],\n",
       "       [0.38162202, 0.32102774, 0.29735024],\n",
       "       [0.3544416 , 0.28851948, 0.35703892],\n",
       "       [0.33337545, 0.27658825, 0.39003631],\n",
       "       [0.36004092, 0.32746195, 0.31249713],\n",
       "       [0.29973671, 0.35165996, 0.34860333],\n",
       "       [0.34768974, 0.33363253, 0.31867773],\n",
       "       [0.32767395, 0.35468706, 0.31763899],\n",
       "       [0.34480836, 0.32149715, 0.33369449],\n",
       "       [0.29922286, 0.36406595, 0.33671119],\n",
       "       [0.34801916, 0.31602841, 0.33595243],\n",
       "       [0.32850237, 0.33286392, 0.33863371],\n",
       "       [0.32685884, 0.34638102, 0.32676013],\n",
       "       [0.35822132, 0.34581629, 0.29596239],\n",
       "       [0.35752892, 0.33945259, 0.30301848],\n",
       "       [0.30607201, 0.35904743, 0.33488056],\n",
       "       [0.31674297, 0.35305532, 0.33020171],\n",
       "       [0.32652549, 0.33673725, 0.33673725],\n",
       "       [0.34056662, 0.30394944, 0.35548394],\n",
       "       [0.34967117, 0.34967117, 0.30065765],\n",
       "       [0.32870028, 0.35041185, 0.32088787],\n",
       "       [0.35082783, 0.35194696, 0.29722521],\n",
       "       [0.31474479, 0.33691512, 0.34834009],\n",
       "       [0.33443762, 0.33443762, 0.33112476],\n",
       "       [0.33333333, 0.33333333, 0.33333333],\n",
       "       [0.34695579, 0.34205373, 0.31099048],\n",
       "       [0.34087154, 0.35211027, 0.3070182 ],\n",
       "       [0.35744626, 0.31929918, 0.32325456],\n",
       "       [0.34751495, 0.30497009, 0.34751495],\n",
       "       [0.35208522, 0.3403017 , 0.30761308],\n",
       "       [0.34054543, 0.34332089, 0.31613368],\n",
       "       [0.31903569, 0.32022895, 0.36073535],\n",
       "       [0.35961848, 0.28106927, 0.35931226],\n",
       "       [0.35589963, 0.31606058, 0.32803979],\n",
       "       [0.29267461, 0.33517772, 0.37214767],\n",
       "       [0.34787976, 0.30424048, 0.34787976],\n",
       "       [0.27818062, 0.34078792, 0.38103146],\n",
       "       [0.36023652, 0.30002788, 0.3397356 ],\n",
       "       [0.32056639, 0.34920567, 0.33022794],\n",
       "       [0.29652112, 0.32056488, 0.382914  ],\n",
       "       [0.34412804, 0.32514354, 0.33072842],\n",
       "       [0.30457857, 0.36199041, 0.33343102],\n",
       "       [0.33333333, 0.33333333, 0.33333333],\n",
       "       [0.34068647, 0.34068647, 0.31862706]])"
      ]
     },
     "execution_count": 27,
     "metadata": {},
     "output_type": "execute_result"
    }
   ],
   "source": [
    "allele_2_frequencies.shape\n",
    "P[0:100]\n"
   ]
  },
  {
   "cell_type": "code",
   "execution_count": 8,
   "id": "23616101",
   "metadata": {},
   "outputs": [
    {
     "data": {
      "text/plain": [
       "(26499, 462)"
      ]
     },
     "execution_count": 8,
     "metadata": {},
     "output_type": "execute_result"
    }
   ],
   "source": [
    "genotype_matrix[:10]\n",
    "genotype_matrix.shape\n"
   ]
  },
  {
   "cell_type": "code",
   "execution_count": null,
   "id": "8cd7b67c",
   "metadata": {},
   "outputs": [
    {
     "name": "stdout",
     "output_type": "stream",
     "text": [
      "Starting the complex algo with Quasi Newton involved \n"
     ]
    }
   ],
   "source": [
    "import numpy as np\n",
    "from scipy.optimize import minimize\n",
    "from tqdm import tqdm\n",
    "import pandas as pd\n",
    "print(\"Starting the complex algo with Quasi Newton involved \")\n",
    "# Assuming `genotype_matrix`, `num_individuals`, and `num_snps` are defined\n",
    "# targ_Q and targ_P represent the target matrices for comparison\n",
    "\n",
    "# Define the negative log-likelihood function\n",
    "def neg_log_likelihood(params, genotypes, num_individuals, num_snps, K):\n",
    "    P = params[:num_snps * K].reshape((num_snps, K))\n",
    "    Q = params[num_snps * K:].reshape((num_individuals, K))\n",
    "    nll = 0.0\n",
    "    for i in range(num_individuals):\n",
    "        for j in range(num_snps):\n",
    "            genotype = genotypes[j, i]\n",
    "            if not np.isnan(genotype):\n",
    "                # Calculate the probability of the genotype given P and Q\n",
    "                prob_geno = 0.0\n",
    "                for k in range(K):\n",
    "                    # Assuming Hardy-Weinberg Equilibrium for the allele frequencies\n",
    "                    if genotype == 2.0:  # Homozygous for allele 2\n",
    "                        prob_geno += Q[i, k] * (P[j, k] ** 2)\n",
    "                    elif genotype == 1.0:  # Heterozygous\n",
    "                        prob_geno += 2 * Q[i, k] * P[j, k] * (1 - P[j, k])\n",
    "                    elif genotype == 0.0:  # Homozygous for allele 1\n",
    "                        prob_geno += Q[i, k] * ((1 - P[j, k]) ** 2)\n",
    "                nll -= np.log(prob_geno + 1e-10)  # Add a small value to avoid log(0)\n",
    "    return nll\n",
    "\n",
    "\n",
    "def gradient(params, genotypes, num_individuals, num_snps, K):\n",
    "    P = params[:num_snps * K].reshape((num_snps, K))\n",
    "    Q = params[num_snps * K:].reshape((num_individuals, K))\n",
    "    \n",
    "    # Placeholder for the actual gradient computation\n",
    "    # The gradients should be the same shape as the parameter array\n",
    "    grad_P = np.zeros_like(P)\n",
    "    grad_Q = np.zeros_like(Q)\n",
    "    \n",
    "    # Compute the gradient here...\n",
    "    # This requires calculating the partial derivatives of the negative log-likelihood\n",
    "    # with respect to each element of P and Q\n",
    "    calculate_gradient_P(Q, genotypes, P, num_individuals, num_snps)\n",
    "    calculate_gradient_Q(P, genotypes, Q, num_individuals, num_snps)\n",
    "    \n",
    "    # Flatten and concatenate gradients to match the shape of 'params'\n",
    "    return np.concatenate([grad_P.flatten(), grad_Q.flatten()])\n",
    "def calculate_gradient_P(Q, genotypes, P, individual, snp):\n",
    "    \"\"\"\n",
    "    Calculate the gradient of the log-likelihood with respect to allele frequencies P.\n",
    "    \"\"\"\n",
    "    grad_P = 0.0\n",
    "    genotype = genotypes[snp-1, individual-1]\n",
    "    \n",
    "    if not np.isnan(genotype):\n",
    "        # Probability of the genotype under Hardy-Weinberg Equilibrium\n",
    "        prob_geno = (P[snp-1] ** 2) * (genotype == 2) + \\\n",
    "                    (2 * P[snp-1] * (1 - P[snp-1])) * (genotype == 1) + \\\n",
    "                    ((1 - P[snp-1]) ** 2) * (genotype == 0)\n",
    "        \n",
    "        # Derivative with respect to P\n",
    "        if genotype == 2:\n",
    "            grad_P = 2 * Q[individual-1] * P[snp-1] / prob_geno\n",
    "        elif genotype == 1:\n",
    "            grad_P = Q[individual-1] * (1 - 2 * P[snp-1]) / prob_geno\n",
    "        elif genotype == 0:\n",
    "            grad_P = -2 * Q[individual-1] * (1 - P[snp-1]) / prob_geno\n",
    "    \n",
    "    return grad_P\n",
    "\n",
    "def calculate_gradient_Q(P, genotypes, Q, individual, snp):\n",
    "    \"\"\"\n",
    "    Calculate the gradient of the log-likelihood with respect to ancestry proportions Q.\n",
    "    \"\"\"\n",
    "    grad_Q = 0.0\n",
    "    genotype = genotypes[snp-1, individual-1]\n",
    "    \n",
    "    if not np.isnan(genotype):\n",
    "        # Probability of the genotype under Hardy-Weinberg Equilibrium\n",
    "        prob_geno = (P[snp-1] ** 2) * (genotype == 2) + \\\n",
    "                    (2 * P[snp-1] * (1 - P[snp-1])) * (genotype == 1) + \\\n",
    "                    ((1 - P[snp-1]) ** 2) * (genotype == 0)\n",
    "        \n",
    "        # Derivative with respect to Q\n",
    "        grad_Q = np.log(prob_geno) * (genotype == 2) + \\\n",
    "                 np.log(1 - prob_geno) * (genotype == 0)\n",
    "    \n",
    "    return grad_Q\n",
    "\n",
    "\n",
    "def naive_admixture_with_quasi_newton(genotypes, num_individuals, num_snps, K, num_iterations=2500):\n",
    "    # Flatten the initial P and Q matrices for use with BFGS\n",
    "    initial_P = (np.random.rand(num_snps, K) / 5) + 0.4\n",
    "    initial_P /= initial_P.sum(axis=1, keepdims=True)\n",
    "    initial_Q = (np.random.rand(num_individuals, K) / 5) + 0.4\n",
    "    initial_Q /= initial_Q.sum(axis=1, keepdims=True)\n",
    "    initial_params = np.hstack((initial_P.flatten(), initial_Q.flatten()))\n",
    "    \n",
    "    # Run the BFGS optimization\n",
    "    result = minimize(fun=neg_log_likelihood,\n",
    "                      x0=initial_params,\n",
    "                      args=(genotypes, num_individuals, num_snps, K),\n",
    "                      jac=gradient,  # If you provide the gradient\n",
    "                      method='BFGS',\n",
    "                      options={'disp': True, 'maxiter': num_iterations})\n",
    "    \n",
    "    # Extract the optimized P and Q matrices\n",
    "    optimized_params = result.x\n",
    "    P = optimized_params[:num_snps * K].reshape((num_snps, K))\n",
    "    Q = optimized_params[num_snps * K:].reshape((num_individuals, K))\n",
    "    \n",
    "    if iter % 2 == 0:\n",
    "            l1_P = np.abs((targ_P - P)).mean().round(3)\n",
    "            l1_Q = np.abs((targ_Q - Q)).mean().round(3)\n",
    "            print('P L1 loss = {}\\nQ L1 Loss = {}'.format(l1_P, l1_Q))\n",
    "    \n",
    "    return P, Q\n",
    "\n",
    "# Run the admixture analysis with quasi-Newton acceleration\n",
    "P, Q = naive_admixture_with_quasi_newton(genotype_matrix, num_individuals, num_snps, K=3, num_iterations=2500)\n",
    "print('Optimization done')\n"
   ]
  },
  {
   "cell_type": "code",
   "execution_count": null,
   "id": "da2f97cb",
   "metadata": {},
   "outputs": [],
   "source": []
  },
  {
   "cell_type": "code",
   "execution_count": null,
   "id": "b6a6b5bd",
   "metadata": {},
   "outputs": [],
   "source": []
  },
  {
   "cell_type": "code",
   "execution_count": null,
   "id": "dc561488",
   "metadata": {},
   "outputs": [],
   "source": []
  },
  {
   "cell_type": "code",
   "execution_count": null,
   "id": "f4fd33d5",
   "metadata": {},
   "outputs": [],
   "source": []
  },
  {
   "cell_type": "code",
   "execution_count": 78,
   "id": "a112fa15",
   "metadata": {},
   "outputs": [],
   "source": [
    "import pandas as pd\n",
    "import numpy as np\n",
    "\n",
    "# Load the .raw file generated by PLINK\n",
    "raw_data = pd.read_csv('orig.raw', delim_whitespace=True)\n",
    "\n",
    "# Drop non-genotype columns. Assuming the first six columns are non-genotype data\n",
    "genotype_data = raw_data.drop(raw_data.columns[:6], axis=1)\n",
    "\n",
    "# Transpose the dataframe so that SNPs are rows and individuals are columns\n",
    "genotype_matrix = genotype_data.transpose()\n",
    "\n",
    "# Replace 0 with NaN to indicate missing data\n",
    "genotype_matrix.replace(0, np.nan, inplace=True)\n",
    "\n",
    "# Save to a .csv file\n",
    "genotype_matrix.to_csv('genotype_matrix.csv', header=False, index=False)\n"
   ]
  },
  {
   "cell_type": "code",
   "execution_count": 80,
   "id": "b5a17166",
   "metadata": {},
   "outputs": [
    {
     "data": {
      "text/html": [
       "<div>\n",
       "<style scoped>\n",
       "    .dataframe tbody tr th:only-of-type {\n",
       "        vertical-align: middle;\n",
       "    }\n",
       "\n",
       "    .dataframe tbody tr th {\n",
       "        vertical-align: top;\n",
       "    }\n",
       "\n",
       "    .dataframe thead th {\n",
       "        text-align: right;\n",
       "    }\n",
       "</style>\n",
       "<table border=\"1\" class=\"dataframe\">\n",
       "  <thead>\n",
       "    <tr style=\"text-align: right;\">\n",
       "      <th></th>\n",
       "      <th>0</th>\n",
       "      <th>1</th>\n",
       "      <th>2</th>\n",
       "      <th>3</th>\n",
       "      <th>4</th>\n",
       "      <th>5</th>\n",
       "      <th>6</th>\n",
       "      <th>7</th>\n",
       "      <th>8</th>\n",
       "      <th>9</th>\n",
       "      <th>...</th>\n",
       "      <th>452</th>\n",
       "      <th>453</th>\n",
       "      <th>454</th>\n",
       "      <th>455</th>\n",
       "      <th>456</th>\n",
       "      <th>457</th>\n",
       "      <th>458</th>\n",
       "      <th>459</th>\n",
       "      <th>460</th>\n",
       "      <th>461</th>\n",
       "    </tr>\n",
       "  </thead>\n",
       "  <tbody>\n",
       "    <tr>\n",
       "      <th>rs539713234_C</th>\n",
       "      <td>NaN</td>\n",
       "      <td>NaN</td>\n",
       "      <td>NaN</td>\n",
       "      <td>NaN</td>\n",
       "      <td>NaN</td>\n",
       "      <td>NaN</td>\n",
       "      <td>NaN</td>\n",
       "      <td>NaN</td>\n",
       "      <td>NaN</td>\n",
       "      <td>NaN</td>\n",
       "      <td>...</td>\n",
       "      <td>NaN</td>\n",
       "      <td>NaN</td>\n",
       "      <td>NaN</td>\n",
       "      <td>NaN</td>\n",
       "      <td>NaN</td>\n",
       "      <td>NaN</td>\n",
       "      <td>NaN</td>\n",
       "      <td>NaN</td>\n",
       "      <td>NaN</td>\n",
       "      <td>NaN</td>\n",
       "    </tr>\n",
       "    <tr>\n",
       "      <th>rs78200054_T</th>\n",
       "      <td>1.0</td>\n",
       "      <td>1.0</td>\n",
       "      <td>1.0</td>\n",
       "      <td>NaN</td>\n",
       "      <td>1.0</td>\n",
       "      <td>1.0</td>\n",
       "      <td>1.0</td>\n",
       "      <td>1.0</td>\n",
       "      <td>1.0</td>\n",
       "      <td>1.0</td>\n",
       "      <td>...</td>\n",
       "      <td>1.0</td>\n",
       "      <td>1.0</td>\n",
       "      <td>1.0</td>\n",
       "      <td>1.0</td>\n",
       "      <td>1.0</td>\n",
       "      <td>1.0</td>\n",
       "      <td>1.0</td>\n",
       "      <td>1.0</td>\n",
       "      <td>2.0</td>\n",
       "      <td>1.0</td>\n",
       "    </tr>\n",
       "    <tr>\n",
       "      <th>rs559733149_T</th>\n",
       "      <td>NaN</td>\n",
       "      <td>NaN</td>\n",
       "      <td>NaN</td>\n",
       "      <td>NaN</td>\n",
       "      <td>NaN</td>\n",
       "      <td>NaN</td>\n",
       "      <td>NaN</td>\n",
       "      <td>NaN</td>\n",
       "      <td>NaN</td>\n",
       "      <td>NaN</td>\n",
       "      <td>...</td>\n",
       "      <td>NaN</td>\n",
       "      <td>NaN</td>\n",
       "      <td>NaN</td>\n",
       "      <td>NaN</td>\n",
       "      <td>NaN</td>\n",
       "      <td>NaN</td>\n",
       "      <td>NaN</td>\n",
       "      <td>NaN</td>\n",
       "      <td>NaN</td>\n",
       "      <td>1.0</td>\n",
       "    </tr>\n",
       "    <tr>\n",
       "      <th>rs564500555_G</th>\n",
       "      <td>NaN</td>\n",
       "      <td>NaN</td>\n",
       "      <td>NaN</td>\n",
       "      <td>NaN</td>\n",
       "      <td>NaN</td>\n",
       "      <td>NaN</td>\n",
       "      <td>NaN</td>\n",
       "      <td>NaN</td>\n",
       "      <td>NaN</td>\n",
       "      <td>NaN</td>\n",
       "      <td>...</td>\n",
       "      <td>NaN</td>\n",
       "      <td>NaN</td>\n",
       "      <td>NaN</td>\n",
       "      <td>NaN</td>\n",
       "      <td>NaN</td>\n",
       "      <td>NaN</td>\n",
       "      <td>NaN</td>\n",
       "      <td>NaN</td>\n",
       "      <td>NaN</td>\n",
       "      <td>NaN</td>\n",
       "    </tr>\n",
       "    <tr>\n",
       "      <th>rs71235073_T</th>\n",
       "      <td>1.0</td>\n",
       "      <td>1.0</td>\n",
       "      <td>1.0</td>\n",
       "      <td>NaN</td>\n",
       "      <td>NaN</td>\n",
       "      <td>1.0</td>\n",
       "      <td>1.0</td>\n",
       "      <td>1.0</td>\n",
       "      <td>1.0</td>\n",
       "      <td>1.0</td>\n",
       "      <td>...</td>\n",
       "      <td>1.0</td>\n",
       "      <td>1.0</td>\n",
       "      <td>1.0</td>\n",
       "      <td>1.0</td>\n",
       "      <td>1.0</td>\n",
       "      <td>1.0</td>\n",
       "      <td>1.0</td>\n",
       "      <td>1.0</td>\n",
       "      <td>1.0</td>\n",
       "      <td>1.0</td>\n",
       "    </tr>\n",
       "    <tr>\n",
       "      <th>rs368646645_C</th>\n",
       "      <td>1.0</td>\n",
       "      <td>1.0</td>\n",
       "      <td>1.0</td>\n",
       "      <td>1.0</td>\n",
       "      <td>1.0</td>\n",
       "      <td>1.0</td>\n",
       "      <td>1.0</td>\n",
       "      <td>1.0</td>\n",
       "      <td>NaN</td>\n",
       "      <td>1.0</td>\n",
       "      <td>...</td>\n",
       "      <td>1.0</td>\n",
       "      <td>1.0</td>\n",
       "      <td>NaN</td>\n",
       "      <td>1.0</td>\n",
       "      <td>1.0</td>\n",
       "      <td>1.0</td>\n",
       "      <td>1.0</td>\n",
       "      <td>NaN</td>\n",
       "      <td>NaN</td>\n",
       "      <td>NaN</td>\n",
       "    </tr>\n",
       "    <tr>\n",
       "      <th>rs71235074_G</th>\n",
       "      <td>1.0</td>\n",
       "      <td>NaN</td>\n",
       "      <td>1.0</td>\n",
       "      <td>1.0</td>\n",
       "      <td>1.0</td>\n",
       "      <td>1.0</td>\n",
       "      <td>NaN</td>\n",
       "      <td>1.0</td>\n",
       "      <td>1.0</td>\n",
       "      <td>1.0</td>\n",
       "      <td>...</td>\n",
       "      <td>1.0</td>\n",
       "      <td>1.0</td>\n",
       "      <td>1.0</td>\n",
       "      <td>1.0</td>\n",
       "      <td>1.0</td>\n",
       "      <td>1.0</td>\n",
       "      <td>1.0</td>\n",
       "      <td>1.0</td>\n",
       "      <td>1.0</td>\n",
       "      <td>1.0</td>\n",
       "    </tr>\n",
       "    <tr>\n",
       "      <th>rs71235075_T</th>\n",
       "      <td>1.0</td>\n",
       "      <td>1.0</td>\n",
       "      <td>1.0</td>\n",
       "      <td>1.0</td>\n",
       "      <td>1.0</td>\n",
       "      <td>1.0</td>\n",
       "      <td>1.0</td>\n",
       "      <td>1.0</td>\n",
       "      <td>1.0</td>\n",
       "      <td>1.0</td>\n",
       "      <td>...</td>\n",
       "      <td>1.0</td>\n",
       "      <td>1.0</td>\n",
       "      <td>1.0</td>\n",
       "      <td>1.0</td>\n",
       "      <td>1.0</td>\n",
       "      <td>1.0</td>\n",
       "      <td>1.0</td>\n",
       "      <td>1.0</td>\n",
       "      <td>1.0</td>\n",
       "      <td>1.0</td>\n",
       "    </tr>\n",
       "    <tr>\n",
       "      <th>rs533016209_A</th>\n",
       "      <td>NaN</td>\n",
       "      <td>NaN</td>\n",
       "      <td>NaN</td>\n",
       "      <td>NaN</td>\n",
       "      <td>NaN</td>\n",
       "      <td>NaN</td>\n",
       "      <td>NaN</td>\n",
       "      <td>NaN</td>\n",
       "      <td>NaN</td>\n",
       "      <td>NaN</td>\n",
       "      <td>...</td>\n",
       "      <td>NaN</td>\n",
       "      <td>NaN</td>\n",
       "      <td>NaN</td>\n",
       "      <td>NaN</td>\n",
       "      <td>NaN</td>\n",
       "      <td>NaN</td>\n",
       "      <td>NaN</td>\n",
       "      <td>NaN</td>\n",
       "      <td>NaN</td>\n",
       "      <td>1.0</td>\n",
       "    </tr>\n",
       "    <tr>\n",
       "      <th>rs373407518_T</th>\n",
       "      <td>1.0</td>\n",
       "      <td>1.0</td>\n",
       "      <td>1.0</td>\n",
       "      <td>NaN</td>\n",
       "      <td>NaN</td>\n",
       "      <td>1.0</td>\n",
       "      <td>1.0</td>\n",
       "      <td>1.0</td>\n",
       "      <td>1.0</td>\n",
       "      <td>1.0</td>\n",
       "      <td>...</td>\n",
       "      <td>1.0</td>\n",
       "      <td>NaN</td>\n",
       "      <td>1.0</td>\n",
       "      <td>2.0</td>\n",
       "      <td>1.0</td>\n",
       "      <td>1.0</td>\n",
       "      <td>1.0</td>\n",
       "      <td>1.0</td>\n",
       "      <td>NaN</td>\n",
       "      <td>1.0</td>\n",
       "    </tr>\n",
       "  </tbody>\n",
       "</table>\n",
       "<p>10 rows × 462 columns</p>\n",
       "</div>"
      ],
      "text/plain": [
       "               0    1    2    3    4    5    6    7    8    9    ...  452  \\\n",
       "rs539713234_C  NaN  NaN  NaN  NaN  NaN  NaN  NaN  NaN  NaN  NaN  ...  NaN   \n",
       "rs78200054_T   1.0  1.0  1.0  NaN  1.0  1.0  1.0  1.0  1.0  1.0  ...  1.0   \n",
       "rs559733149_T  NaN  NaN  NaN  NaN  NaN  NaN  NaN  NaN  NaN  NaN  ...  NaN   \n",
       "rs564500555_G  NaN  NaN  NaN  NaN  NaN  NaN  NaN  NaN  NaN  NaN  ...  NaN   \n",
       "rs71235073_T   1.0  1.0  1.0  NaN  NaN  1.0  1.0  1.0  1.0  1.0  ...  1.0   \n",
       "rs368646645_C  1.0  1.0  1.0  1.0  1.0  1.0  1.0  1.0  NaN  1.0  ...  1.0   \n",
       "rs71235074_G   1.0  NaN  1.0  1.0  1.0  1.0  NaN  1.0  1.0  1.0  ...  1.0   \n",
       "rs71235075_T   1.0  1.0  1.0  1.0  1.0  1.0  1.0  1.0  1.0  1.0  ...  1.0   \n",
       "rs533016209_A  NaN  NaN  NaN  NaN  NaN  NaN  NaN  NaN  NaN  NaN  ...  NaN   \n",
       "rs373407518_T  1.0  1.0  1.0  NaN  NaN  1.0  1.0  1.0  1.0  1.0  ...  1.0   \n",
       "\n",
       "               453  454  455  456  457  458  459  460  461  \n",
       "rs539713234_C  NaN  NaN  NaN  NaN  NaN  NaN  NaN  NaN  NaN  \n",
       "rs78200054_T   1.0  1.0  1.0  1.0  1.0  1.0  1.0  2.0  1.0  \n",
       "rs559733149_T  NaN  NaN  NaN  NaN  NaN  NaN  NaN  NaN  1.0  \n",
       "rs564500555_G  NaN  NaN  NaN  NaN  NaN  NaN  NaN  NaN  NaN  \n",
       "rs71235073_T   1.0  1.0  1.0  1.0  1.0  1.0  1.0  1.0  1.0  \n",
       "rs368646645_C  1.0  NaN  1.0  1.0  1.0  1.0  NaN  NaN  NaN  \n",
       "rs71235074_G   1.0  1.0  1.0  1.0  1.0  1.0  1.0  1.0  1.0  \n",
       "rs71235075_T   1.0  1.0  1.0  1.0  1.0  1.0  1.0  1.0  1.0  \n",
       "rs533016209_A  NaN  NaN  NaN  NaN  NaN  NaN  NaN  NaN  1.0  \n",
       "rs373407518_T  NaN  1.0  2.0  1.0  1.0  1.0  1.0  NaN  1.0  \n",
       "\n",
       "[10 rows x 462 columns]"
      ]
     },
     "execution_count": 80,
     "metadata": {},
     "output_type": "execute_result"
    }
   ],
   "source": [
    "genotype_matrix[0:10]"
   ]
  },
  {
   "cell_type": "code",
   "execution_count": null,
   "id": "054ee360",
   "metadata": {},
   "outputs": [],
   "source": [
    "##plink --bfile ps2_admixture --recode A-transpose --out orig\n",
    "##plink --bfile ps2_admixture --recode A --transpose --out orig"
   ]
  }
 ],
 "metadata": {
  "kernelspec": {
   "display_name": "Python 3 (ipykernel)",
   "language": "python",
   "name": "python3"
  },
  "language_info": {
   "codemirror_mode": {
    "name": "ipython",
    "version": 3
   },
   "file_extension": ".py",
   "mimetype": "text/x-python",
   "name": "python",
   "nbconvert_exporter": "python",
   "pygments_lexer": "ipython3",
   "version": "3.9.5"
  }
 },
 "nbformat": 4,
 "nbformat_minor": 5
}
